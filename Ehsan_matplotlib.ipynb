{
 "cells": [
  {
   "cell_type": "markdown",
   "metadata": {},
   "source": [
    "\n",
    "# Matplotlib Overview Lecture"
   ]
  },
  {
   "cell_type": "markdown",
   "metadata": {},
   "source": [
    "## Introduction\n",
    "Matplotlib is the \"grandfather\" library of data visualization with Python. It was created by John Hunter. He created it to try to replicate MatLab's (another programming language) plotting capabilities in Python. So if you happen to be familiar with matlab, matplotlib will feel natural to you.\n",
    "\n",
    "It is an excellent 2D and 3D graphics library for generating scientific figures. \n",
    "\n",
    "Some of the major Pros of Matplotlib are:\n",
    "\n",
    "* Generally easy to get started for simple plots\n",
    "* Support for custom labels and texts\n",
    "* Great control of every element in a figure\n",
    "* High-quality output in many formats\n",
    "* Very customizable in general\n",
    "\n",
    "Matplotlib allows you to create reproducible figures programmatically. Let's learn how to use it! Before continuing this lecture, I encourage you just to explore the official Matplotlib web page: http://matplotlib.org/\n",
    "    \n",
    "## Importing\n",
    "Import the `matplotlib.pyplot` module under the name `plt` (the tidy way):"
   ]
  },
  {
   "cell_type": "code",
   "execution_count": 1,
   "metadata": {
    "collapsed": true
   },
   "outputs": [],
   "source": [
    "import matplotlib.pyplot as plt"
   ]
  },
  {
   "cell_type": "markdown",
   "metadata": {},
   "source": [
    "You'll also need to use this line to see plots in the notebook:"
   ]
  },
  {
   "cell_type": "code",
   "execution_count": 2,
   "metadata": {
    "collapsed": true
   },
   "outputs": [],
   "source": [
    "%matplotlib inline"
   ]
  },
  {
   "cell_type": "markdown",
   "metadata": {},
   "source": [
    "# Basic Example\n",
    "\n",
    "Let's walk through a very simple example using two numpy arrays:"
   ]
  },
  {
   "cell_type": "code",
   "execution_count": 3,
   "metadata": {
    "collapsed": true
   },
   "outputs": [],
   "source": [
    "import numpy as np\n",
    "x = np.linspace(0, 5, 11)\n",
    "y = x ** 2"
   ]
  },
  {
   "cell_type": "code",
   "execution_count": 4,
   "metadata": {},
   "outputs": [
    {
     "data": {
      "text/plain": [
       "array([ 0. ,  0.5,  1. ,  1.5,  2. ,  2.5,  3. ,  3.5,  4. ,  4.5,  5. ])"
      ]
     },
     "execution_count": 4,
     "metadata": {},
     "output_type": "execute_result"
    }
   ],
   "source": [
    "x"
   ]
  },
  {
   "cell_type": "code",
   "execution_count": 5,
   "metadata": {},
   "outputs": [
    {
     "data": {
      "text/plain": [
       "array([  0.  ,   0.25,   1.  ,   2.25,   4.  ,   6.25,   9.  ,  12.25,\n",
       "        16.  ,  20.25,  25.  ])"
      ]
     },
     "execution_count": 5,
     "metadata": {},
     "output_type": "execute_result"
    }
   ],
   "source": [
    "y"
   ]
  },
  {
   "cell_type": "markdown",
   "metadata": {},
   "source": [
    "## Basic Matplotlib Commands"
   ]
  },
  {
   "cell_type": "code",
   "execution_count": 6,
   "metadata": {},
   "outputs": [
    {
     "data": {
      "image/png": "[encoded data removed]",
      "text/plain": [
       "<matplotlib.figure.Figure at 0xb821940>"
      ]
     },
     "metadata": {},
     "output_type": "display_data"
    }
   ],
   "source": [
    "plt.plot(x, y, 'r') # 'r' is the color red\n",
    "plt.xlabel('X Axis Title Here')\n",
    "plt.ylabel('Y Axis Title Here')\n",
    "plt.title('String Title Here')\n",
    "plt.show()"
   ]
  },
  {
   "cell_type": "markdown",
   "metadata": {},
   "source": [
    "## Creating Multiplots on Same Canvas"
   ]
  },
  {
   "cell_type": "code",
   "execution_count": 7,
   "metadata": {},
   "outputs": [
    {
     "data": {
      "image/png": "[encoded data removed]",
      "text/plain": [
       "<matplotlib.figure.Figure at 0xb821898>"
      ]
     },
     "metadata": {},
     "output_type": "display_data"
    }
   ],
   "source": [
    "# plt.subplot(nrows, ncols, plot_number)\n",
    "plt.subplot(1,2,1)\n",
    "plt.plot(x, y, 'r--') \n",
    "plt.subplot(1,2,2)\n",
    "plt.plot(y, x, 'g*-');"
   ]
  },
  {
   "cell_type": "markdown",
   "metadata": {},
   "source": [
    "# Matplotlib Object Oriented Method\n",
    "\n",
    "The main idea in using the more formal Object Oriented method is to create figure objects and then just call methods or attributes off of that object. This approach is nicer when dealing with a canvas that has multiple plots on it. \n",
    "\n",
    "To begin we create a figure instance. Then we can add axes to that figure:"
   ]
  },
  {
   "cell_type": "code",
   "execution_count": 8,
   "metadata": {},
   "outputs": [
    {
     "data": {
      "image/png": "[encoded data removed]",
      "text/plain": [
       "<matplotlib.figure.Figure at 0xbd15cc0>"
      ]
     },
     "metadata": {},
     "output_type": "display_data"
    }
   ],
   "source": [
    "fig = plt.figure() # Create Figure (empty canvas)\n",
    "axes = fig.add_axes([0.1, 0.1, 0.8, 0.8]) # left, bottom, width, height (range 0 to 1)"
   ]
  },
  {
   "cell_type": "code",
   "execution_count": 9,
   "metadata": {},
   "outputs": [
    {
     "data": {
      "text/plain": [
       "Text(0.5,1,u'Set Title')"
      ]
     },
     "execution_count": 9,
     "metadata": {},
     "output_type": "execute_result"
    },
    {
     "data": {
      "image/png": "[encoded data removed]",
      "text/plain": [
       "<matplotlib.figure.Figure at 0xb9be780>"
      ]
     },
     "metadata": {},
     "output_type": "display_data"
    }
   ],
   "source": [
    "# Create Figure (empty canvas)\n",
    "fig = plt.figure()\n",
    "\n",
    "# Add set of axes to figure\n",
    "axes = fig.add_axes([0.1, 0.1, 0.8, 0.8]) # left, bottom, width, height (range 0 to 1)\n",
    "\n",
    "# Plot on that set of axes\n",
    "axes.plot(x, y, 'b')\n",
    "axes.set_xlabel('Set X Label') # Notice the use of set_ to begin methods\n",
    "axes.set_ylabel('Set y Label')\n",
    "axes.set_title('Set Title')"
   ]
  },
  {
   "cell_type": "markdown",
   "metadata": {},
   "source": [
    "## subplots()\n",
    "\n",
    "The plt.subplots() object will act as a more automatic axis manager.\n",
    "\n",
    "Basic use cases:"
   ]
  },
  {
   "cell_type": "code",
   "execution_count": 10,
   "metadata": {},
   "outputs": [
    {
     "data": {
      "image/png": "[encoded data removed]",
      "text/plain": [
       "<matplotlib.figure.Figure at 0xbccdc18>"
      ]
     },
     "metadata": {},
     "output_type": "display_data"
    }
   ],
   "source": [
    "# Use similar to plt.figure() except use tuple unpacking to grab fig and axes\n",
    "fig, axes = plt.subplots()\n",
    "\n",
    "# Now use the axes object to add stuff to plot\n",
    "axes.plot(x, y, 'r')\n",
    "axes.set_xlabel('x')\n",
    "axes.set_ylabel('y')\n",
    "axes.set_title('title');"
   ]
  },
  {
   "cell_type": "markdown",
   "metadata": {},
   "source": [
    "Then you can specify the number of rows and columns when creating the subplots() object:"
   ]
  },
  {
   "cell_type": "code",
   "execution_count": 11,
   "metadata": {},
   "outputs": [
    {
     "data": {
      "image/png": "[encoded data removed]",
      "text/plain": [
       "<matplotlib.figure.Figure at 0xc20b438>"
      ]
     },
     "metadata": {},
     "output_type": "display_data"
    }
   ],
   "source": [
    "# Empty canvas of 1 by 2 subplots\n",
    "fig, axes = plt.subplots(nrows=1, ncols=2)"
   ]
  },
  {
   "cell_type": "code",
   "execution_count": 12,
   "metadata": {},
   "outputs": [
    {
     "data": {
      "text/plain": [
       "array([<matplotlib.axes._subplots.AxesSubplot object at 0x000000000C21BBE0>,\n",
       "       <matplotlib.axes._subplots.AxesSubplot object at 0x000000000BD2D3C8>], dtype=object)"
      ]
     },
     "execution_count": 12,
     "metadata": {},
     "output_type": "execute_result"
    }
   ],
   "source": [
    "# Axes is an array of axes to plot on\n",
    "axes"
   ]
  },
  {
   "cell_type": "markdown",
   "metadata": {},
   "source": [
    "We can iterate through this array:"
   ]
  },
  {
   "cell_type": "code",
   "execution_count": 13,
   "metadata": {},
   "outputs": [
    {
     "data": {
      "image/png": "[encoded data removed]",
      "text/plain": [
       "<matplotlib.figure.Figure at 0xc20b438>"
      ]
     },
     "execution_count": 13,
     "metadata": {},
     "output_type": "execute_result"
    }
   ],
   "source": [
    "for ax in axes:\n",
    "    ax.plot(x, y, 'b')\n",
    "    ax.set_xlabel('x')\n",
    "    ax.set_ylabel('y')\n",
    "    ax.set_title('title')\n",
    "\n",
    "# Display the figure object    \n",
    "fig"
   ]
  },
  {
   "cell_type": "code",
   "execution_count": 14,
   "metadata": {},
   "outputs": [
    {
     "data": {
      "text/plain": [
       "<matplotlib.figure.Figure at 0xb9f1cc0>"
      ]
     },
     "metadata": {},
     "output_type": "display_data"
    }
   ],
   "source": [
    "fig = plt.figure(figsize=(8,4), dpi=100)"
   ]
  },
  {
   "cell_type": "markdown",
   "metadata": {},
   "source": [
    "Saving to png"
   ]
  },
  {
   "cell_type": "code",
   "execution_count": 15,
   "metadata": {
    "collapsed": true
   },
   "outputs": [],
   "source": [
    "fig.savefig(\"filename.png\")"
   ]
  },
  {
   "cell_type": "markdown",
   "metadata": {},
   "source": [
    "## Realistic example"
   ]
  },
  {
   "cell_type": "code",
   "execution_count": 16,
   "metadata": {
    "collapsed": true
   },
   "outputs": [],
   "source": [
    "gdp_cap=[974.58033839999996,\n",
    " 5937.0295259999984,\n",
    " 6223.3674650000003,\n",
    " 4797.2312670000001,\n",
    " 12779.379639999999,\n",
    " 34435.367439999995,\n",
    " 36126.492700000003,\n",
    " 29796.048340000001,\n",
    " 1391.253792,\n",
    " 33692.605080000001,\n",
    " 1441.2848730000001,\n",
    " 3822.137084,\n",
    " 7446.2988029999997,\n",
    " 12569.851769999999,\n",
    " 9065.8008250000003,\n",
    " 10680.792820000001,\n",
    " 1217.0329939999999,\n",
    " 430.07069159999998,\n",
    " 1713.7786860000001,\n",
    " 2042.0952400000001,\n",
    " 36319.235009999997,\n",
    " 706.01653699999997,\n",
    " 1704.0637240000001,\n",
    " 13171.638849999999,\n",
    " 4959.1148540000004,\n",
    " 7006.5804189999999,\n",
    " 986.14787920000003,\n",
    " 277.55185870000003,\n",
    " 3632.5577979999998,\n",
    " 9645.06142,\n",
    " 1544.7501119999999,\n",
    " 14619.222719999998,\n",
    " 8948.1029230000004,\n",
    " 22833.308509999999,\n",
    " 35278.418740000001,\n",
    " 2082.4815670000007,\n",
    " 6025.3747520000015,\n",
    " 6873.2623260000009,\n",
    " 5581.1809979999998,\n",
    " 5728.3535140000004,\n",
    " 12154.089749999999,\n",
    " 641.36952360000021,\n",
    " 690.80557590000001,\n",
    " 33207.0844,\n",
    " 30470.0167,\n",
    " 13206.48452,\n",
    " 752.74972649999995,\n",
    " 32170.37442,\n",
    " 1327.6089099999999,\n",
    " 27538.41188,\n",
    " 5186.0500030000003,\n",
    " 942.6542111,\n",
    " 579.23174299999982,\n",
    " 1201.637154,\n",
    " 3548.3308460000007,\n",
    " 39724.978669999997,\n",
    " 18008.944439999999,\n",
    " 36180.789190000003,\n",
    " 2452.210407,\n",
    " 3540.6515639999998,\n",
    " 11605.71449,\n",
    " 4471.0619059999999,\n",
    " 40675.996350000001,\n",
    " 25523.277099999999,\n",
    " 28569.719700000001,\n",
    " 7320.8802620000015,\n",
    " 31656.068060000001,\n",
    " 4519.4611709999999,\n",
    " 1463.249282,\n",
    " 1593.06548,\n",
    " 23348.139730000006,\n",
    " 47306.989780000004,\n",
    " 10461.05868,\n",
    " 1569.3314419999999,\n",
    " 414.5073415,\n",
    " 12057.49928,\n",
    " 1044.7701259999999,\n",
    " 759.34991009999999,\n",
    " 12451.6558,\n",
    " 1042.581557,\n",
    " 1803.151496,\n",
    " 10956.991120000001,\n",
    " 11977.57496,\n",
    " 3095.7722710000007,\n",
    " 9253.896111,\n",
    " 3820.1752299999998,\n",
    " 823.68562050000003,\n",
    " 944.0,\n",
    " 4811.0604290000001,\n",
    " 1091.359778,\n",
    " 36797.933319999996,\n",
    " 25185.009109999999,\n",
    " 2749.3209649999999,\n",
    " 619.67689239999982,\n",
    " 2013.9773049999999,\n",
    " 49357.190170000002,\n",
    " 22316.192869999999,\n",
    " 2605.94758,\n",
    " 9809.1856360000002,\n",
    " 4172.8384640000004,\n",
    " 7408.9055609999996,\n",
    " 3190.4810160000002,\n",
    " 15389.924680000002,\n",
    " 20509.64777,\n",
    " 19328.709009999999,\n",
    " 7670.122558,\n",
    " 10808.47561,\n",
    " 863.08846390000019,\n",
    " 1598.4350890000001,\n",
    " 21654.83194,\n",
    " 1712.4721360000001,\n",
    " 9786.5347139999994,\n",
    " 862.54075610000018,\n",
    " 47143.179640000002,\n",
    " 18678.314350000001,\n",
    " 25768.257590000001,\n",
    " 926.14106830000003,\n",
    " 9269.6578079999999,\n",
    " 28821.063699999999,\n",
    " 3970.0954069999998,\n",
    " 2602.3949950000001,\n",
    " 4513.4806429999999,\n",
    " 33859.748350000002,\n",
    " 37506.419070000004,\n",
    " 4184.5480889999999,\n",
    " 28718.276839999999,\n",
    " 1107.482182,\n",
    " 7458.3963269999977,\n",
    " 882.9699437999999,\n",
    " 18008.509239999999,\n",
    " 7092.9230250000001,\n",
    " 8458.2763840000007,\n",
    " 1056.3801209999999,\n",
    " 33203.261279999999,\n",
    " 42951.65309,\n",
    " 10611.46299,\n",
    " 11415.805689999999,\n",
    " 2441.5764039999999,\n",
    " 3025.3497980000002,\n",
    " 2280.769906,\n",
    " 1271.211593,\n",
    " 469.70929810000007]"
   ]
  },
  {
   "cell_type": "code",
   "execution_count": 17,
   "metadata": {
    "collapsed": true
   },
   "outputs": [],
   "source": [
    "life_exp = [43.828000000000003,\n",
    " 76.423000000000002,\n",
    " 72.301000000000002,\n",
    " 42.731000000000002,\n",
    " 75.319999999999993,\n",
    " 81.234999999999999,\n",
    " 79.828999999999994,\n",
    " 75.635000000000005,\n",
    " 64.061999999999998,\n",
    " 79.441000000000003,\n",
    " 56.728000000000002,\n",
    " 65.554000000000002,\n",
    " 74.852000000000004,\n",
    " 50.728000000000002,\n",
    " 72.390000000000001,\n",
    " 73.004999999999995,\n",
    " 52.295000000000002,\n",
    " 49.579999999999998,\n",
    " 59.722999999999999,\n",
    " 50.43,\n",
    " 80.653000000000006,\n",
    " 44.741000000000007,\n",
    " 50.651000000000003,\n",
    " 78.552999999999997,\n",
    " 72.960999999999999,\n",
    " 72.888999999999996,\n",
    " 65.152000000000001,\n",
    " 46.462000000000003,\n",
    " 55.322000000000003,\n",
    " 78.781999999999996,\n",
    " 48.328000000000003,\n",
    " 75.748000000000005,\n",
    " 78.272999999999996,\n",
    " 76.486000000000004,\n",
    " 78.331999999999994,\n",
    " 54.790999999999997,\n",
    " 72.234999999999999,\n",
    " 74.994,\n",
    " 71.338000000000022,\n",
    " 71.878,\n",
    " 51.578999999999994,\n",
    " 58.039999999999999,\n",
    " 52.947000000000003,\n",
    " 79.313000000000002,\n",
    " 80.656999999999996,\n",
    " 56.734999999999999,\n",
    " 59.448,\n",
    " 79.406000000000006,\n",
    " 60.021999999999998,\n",
    " 79.483000000000004,\n",
    " 70.259,\n",
    " 56.006999999999998,\n",
    " 46.388000000000012,\n",
    " 60.915999999999997,\n",
    " 70.198000000000008,\n",
    " 82.207999999999998,\n",
    " 73.338000000000022,\n",
    " 81.757000000000005,\n",
    " 64.698000000000008,\n",
    " 70.650000000000006,\n",
    " 70.963999999999999,\n",
    " 59.545000000000002,\n",
    " 78.885000000000005,\n",
    " 80.745000000000005,\n",
    " 80.546000000000006,\n",
    " 72.566999999999993,\n",
    " 82.602999999999994,\n",
    " 72.534999999999997,\n",
    " 54.109999999999999,\n",
    " 67.296999999999997,\n",
    " 78.623000000000005,\n",
    " 77.588000000000022,\n",
    " 71.992999999999995,\n",
    " 42.591999999999999,\n",
    " 45.677999999999997,\n",
    " 73.951999999999998,\n",
    " 59.443000000000012,\n",
    " 48.302999999999997,\n",
    " 74.241,\n",
    " 54.466999999999999,\n",
    " 64.164000000000001,\n",
    " 72.801000000000002,\n",
    " 76.194999999999993,\n",
    " 66.802999999999997,\n",
    " 74.543000000000006,\n",
    " 71.164000000000001,\n",
    " 42.082000000000001,\n",
    " 62.069000000000003,\n",
    " 52.906000000000013,\n",
    " 63.784999999999997,\n",
    " 79.762,\n",
    " 80.203999999999994,\n",
    " 72.899000000000001,\n",
    " 56.866999999999997,\n",
    " 46.859000000000002,\n",
    " 80.195999999999998,\n",
    " 75.640000000000001,\n",
    " 65.483000000000004,\n",
    " 75.536999999999978,\n",
    " 71.751999999999995,\n",
    " 71.421000000000006,\n",
    " 71.688000000000002,\n",
    " 75.563000000000002,\n",
    " 78.097999999999999,\n",
    " 78.746000000000024,\n",
    " 76.441999999999993,\n",
    " 72.475999999999999,\n",
    " 46.241999999999997,\n",
    " 65.528000000000006,\n",
    " 72.777000000000001,\n",
    " 63.061999999999998,\n",
    " 74.001999999999995,\n",
    " 42.568000000000012,\n",
    " 79.971999999999994,\n",
    " 74.662999999999997,\n",
    " 77.926000000000002,\n",
    " 48.158999999999999,\n",
    " 49.338999999999999,\n",
    " 80.941000000000003,\n",
    " 72.396000000000001,\n",
    " 58.555999999999997,\n",
    " 39.613,\n",
    " 80.884,\n",
    " 81.701000000000022,\n",
    " 74.143000000000001,\n",
    " 78.400000000000006,\n",
    " 52.517000000000003,\n",
    " 70.616,\n",
    " 58.420000000000002,\n",
    " 69.819000000000003,\n",
    " 73.923000000000002,\n",
    " 71.777000000000001,\n",
    " 51.542000000000002,\n",
    " 79.424999999999997,\n",
    " 78.242000000000004,\n",
    " 76.384,\n",
    " 73.747,\n",
    " 74.248999999999995,\n",
    " 73.421999999999997,\n",
    " 62.698,\n",
    " 42.383999999999993,\n",
    " 43.487000000000002]"
   ]
  },
  {
   "cell_type": "code",
   "execution_count": 18,
   "metadata": {
    "collapsed": true
   },
   "outputs": [],
   "source": [
    "pop= [31.889923,\n",
    " 3.6005229999999999,\n",
    " 33.333216,\n",
    " 12.420476000000001,\n",
    " 40.301926999999999,\n",
    " 20.434176000000001,\n",
    " 8.199783,\n",
    " 0.70857300000000001,\n",
    " 150.448339,\n",
    " 10.392226000000001,\n",
    " 8.0783140000000007,\n",
    " 9.1191519999999997,\n",
    " 4.5521979999999997,\n",
    " 1.6391309999999999,\n",
    " 190.01064700000001,\n",
    " 7.3228580000000001,\n",
    " 14.326203,\n",
    " 8.3905049999999992,\n",
    " 14.131857999999999,\n",
    " 17.696293000000001,\n",
    " 33.390141,\n",
    " 4.3690379999999998,\n",
    " 10.238807,\n",
    " 16.284741,\n",
    " 1318.683096,\n",
    " 44.227550000000001,\n",
    " 0.71096000000000004,\n",
    " 64.606758999999997,\n",
    " 3.8006099999999998,\n",
    " 4.1338840000000001,\n",
    " 18.013408999999999,\n",
    " 4.4933120000000004,\n",
    " 11.416987000000001,\n",
    " 10.228744000000001,\n",
    " 5.4681199999999999,\n",
    " 0.49637399999999998,\n",
    " 9.3196220000000007,\n",
    " 13.75568,\n",
    " 80.264543000000003,\n",
    " 6.9396880000000003,\n",
    " 0.55120100000000005,\n",
    " 4.9065849999999998,\n",
    " 76.511887000000002,\n",
    " 5.2384599999999999,\n",
    " 61.083916000000002,\n",
    " 1.4548669999999999,\n",
    " 1.6883589999999999,\n",
    " 82.400996000000006,\n",
    " 22.873338,\n",
    " 10.706289999999999,\n",
    " 12.572927999999999,\n",
    " 9.9478139999999993,\n",
    " 1.4720409999999999,\n",
    " 8.5028140000000008,\n",
    " 7.4837629999999997,\n",
    " 6.9804120000000003,\n",
    " 9.9561080000000004,\n",
    " 0.301931,\n",
    " 1110.3963309999999,\n",
    " 223.547,\n",
    " 69.453569999999999,\n",
    " 27.499638000000001,\n",
    " 4.1090859999999996,\n",
    " 6.426679,\n",
    " 58.147733000000002,\n",
    " 2.780132,\n",
    " 127.467972,\n",
    " 6.0531930000000003,\n",
    " 35.610177,\n",
    " 23.301725000000001,\n",
    " 49.044789999999999,\n",
    " 2.5055589999999999,\n",
    " 3.921278,\n",
    " 2.0126490000000001,\n",
    " 3.1939419999999998,\n",
    " 6.0369140000000003,\n",
    " 19.167653999999999,\n",
    " 13.327078999999999,\n",
    " 24.821286000000001,\n",
    " 12.031795000000001,\n",
    " 3.2700650000000002,\n",
    " 1.250882,\n",
    " 108.700891,\n",
    " 2.8741270000000001,\n",
    " 0.68473600000000001,\n",
    " 33.757174999999997,\n",
    " 19.951656,\n",
    " 47.761980000000001,\n",
    " 2.0550799999999998,\n",
    " 28.901789999999998,\n",
    " 16.570613000000002,\n",
    " 4.1157709999999996,\n",
    " 5.6753559999999998,\n",
    " 12.894864999999999,\n",
    " 135.03116399999999,\n",
    " 4.6279260000000004,\n",
    " 3.2048969999999999,\n",
    " 169.27061699999999,\n",
    " 3.2421730000000002,\n",
    " 6.6671469999999999,\n",
    " 28.674757,\n",
    " 91.077286999999998,\n",
    " 38.518241000000003,\n",
    " 10.642836000000001,\n",
    " 3.942491,\n",
    " 0.79809399999999997,\n",
    " 22.276056000000001,\n",
    " 8.8605879999999999,\n",
    " 0.19957900000000001,\n",
    " 27.601037999999999,\n",
    " 12.267493,\n",
    " 10.150264999999999,\n",
    " 6.1445619999999996,\n",
    " 4.5530090000000003,\n",
    " 5.4475020000000001,\n",
    " 2.0092449999999999,\n",
    " 9.1187729999999991,\n",
    " 43.997827999999998,\n",
    " 40.448191000000001,\n",
    " 20.378239000000001,\n",
    " 42.292929000000001,\n",
    " 1.1330659999999999,\n",
    " 9.0310880000000004,\n",
    " 7.5546610000000003,\n",
    " 19.314747000000001,\n",
    " 23.174294,\n",
    " 38.13964,\n",
    " 65.068149000000005,\n",
    " 5.7015789999999997,\n",
    " 1.056608,\n",
    " 10.276158000000001,\n",
    " 71.158647000000002,\n",
    " 29.170397999999999,\n",
    " 60.776237999999999,\n",
    " 301.13994700000001,\n",
    " 3.4474960000000001,\n",
    " 26.084662000000002,\n",
    " 85.262355999999997,\n",
    " 4.018332,\n",
    " 22.211742999999998,\n",
    " 11.746034999999999,\n",
    " 12.311143]"
   ]
  },
  {
   "cell_type": "code",
   "execution_count": 19,
   "metadata": {
    "collapsed": true
   },
   "outputs": [],
   "source": [
    "life_exp1950 =[28.8,\n",
    " 55.23,\n",
    " 43.08,\n",
    " 30.02,\n",
    " 62.48,\n",
    " 69.12,\n",
    " 66.8,\n",
    " 50.94,\n",
    " 37.48,\n",
    " 68.0,\n",
    " 38.22,\n",
    " 40.41,\n",
    " 53.82,\n",
    " 47.62,\n",
    " 50.92,\n",
    " 59.6,\n",
    " 31.98,\n",
    " 39.03,\n",
    " 39.42,\n",
    " 38.52,\n",
    " 68.75,\n",
    " 35.46,\n",
    " 38.09,\n",
    " 54.74,\n",
    " 44.0,\n",
    " 50.64,\n",
    " 40.72,\n",
    " 39.14,\n",
    " 42.11,\n",
    " 57.21,\n",
    " 40.48,\n",
    " 61.21,\n",
    " 59.42,\n",
    " 66.87,\n",
    " 70.78,\n",
    " 34.81,\n",
    " 45.93,\n",
    " 48.36,\n",
    " 41.89,\n",
    " 45.26,\n",
    " 34.48,\n",
    " 35.93,\n",
    " 34.08,\n",
    " 66.55,\n",
    " 67.41,\n",
    " 37.0,\n",
    " 30.0,\n",
    " 67.5,\n",
    " 43.15,\n",
    " 65.86,\n",
    " 42.02,\n",
    " 33.61,\n",
    " 32.5,\n",
    " 37.58,\n",
    " 41.91,\n",
    " 60.96,\n",
    " 64.03,\n",
    " 72.49,\n",
    " 37.37,\n",
    " 37.47,\n",
    " 44.87,\n",
    " 45.32,\n",
    " 66.91,\n",
    " 65.39,\n",
    " 65.94,\n",
    " 58.53,\n",
    " 63.03,\n",
    " 43.16,\n",
    " 42.27,\n",
    " 50.06,\n",
    " 47.45,\n",
    " 55.56,\n",
    " 55.93,\n",
    " 42.14,\n",
    " 38.48,\n",
    " 42.72,\n",
    " 36.68,\n",
    " 36.26,\n",
    " 48.46,\n",
    " 33.68,\n",
    " 40.54,\n",
    " 50.99,\n",
    " 50.79,\n",
    " 42.24,\n",
    " 59.16,\n",
    " 42.87,\n",
    " 31.29,\n",
    " 36.32,\n",
    " 41.72,\n",
    " 36.16,\n",
    " 72.13,\n",
    " 69.39,\n",
    " 42.31,\n",
    " 37.44,\n",
    " 36.32,\n",
    " 72.67,\n",
    " 37.58,\n",
    " 43.44,\n",
    " 55.19,\n",
    " 62.65,\n",
    " 43.9,\n",
    " 47.75,\n",
    " 61.31,\n",
    " 59.82,\n",
    " 64.28,\n",
    " 52.72,\n",
    " 61.05,\n",
    " 40.0,\n",
    " 46.47,\n",
    " 39.88,\n",
    " 37.28,\n",
    " 58.0,\n",
    " 30.33,\n",
    " 60.4,\n",
    " 64.36,\n",
    " 65.57,\n",
    " 32.98,\n",
    " 45.01,\n",
    " 64.94,\n",
    " 57.59,\n",
    " 38.64,\n",
    " 41.41,\n",
    " 71.86,\n",
    " 69.62,\n",
    " 45.88,\n",
    " 58.5,\n",
    " 41.22,\n",
    " 50.85,\n",
    " 38.6,\n",
    " 59.1,\n",
    " 44.6,\n",
    " 43.58,\n",
    " 39.98,\n",
    " 69.18,\n",
    " 68.44,\n",
    " 66.07,\n",
    " 55.09,\n",
    " 40.41,\n",
    " 43.16,\n",
    " 32.55,\n",
    " 42.04,\n",
    " 48.45]"
   ]
  },
  {
   "cell_type": "code",
   "execution_count": 20,
   "metadata": {},
   "outputs": [
    {
     "name": "stdout",
     "output_type": "stream",
     "text": [
      "ax\t axes\t fig\t gdp_cap\t life_exp\t life_exp1950\t np\t plt\t pop\t \n",
      "x\t y\t \n"
     ]
    }
   ],
   "source": [
    "%who"
   ]
  },
  {
   "cell_type": "code",
   "execution_count": 21,
   "metadata": {},
   "outputs": [
    {
     "data": {
      "text/html": [
       "<div>\n",
       "<style>\n",
       "    .dataframe thead tr:only-child th {\n",
       "        text-align: right;\n",
       "    }\n",
       "\n",
       "    .dataframe thead th {\n",
       "        text-align: left;\n",
       "    }\n",
       "\n",
       "    .dataframe tbody tr th {\n",
       "        vertical-align: top;\n",
       "    }\n",
       "</style>\n",
       "<table border=\"1\" class=\"dataframe\">\n",
       "  <thead>\n",
       "    <tr style=\"text-align: right;\">\n",
       "      <th></th>\n",
       "      <th>gdp_cap</th>\n",
       "      <th>life_exp</th>\n",
       "      <th>life_exp1950</th>\n",
       "      <th>pop</th>\n",
       "    </tr>\n",
       "  </thead>\n",
       "  <tbody>\n",
       "    <tr>\n",
       "      <th>0</th>\n",
       "      <td>974.580338</td>\n",
       "      <td>43.828</td>\n",
       "      <td>28.80</td>\n",
       "      <td>31.889923</td>\n",
       "    </tr>\n",
       "    <tr>\n",
       "      <th>1</th>\n",
       "      <td>5937.029526</td>\n",
       "      <td>76.423</td>\n",
       "      <td>55.23</td>\n",
       "      <td>3.600523</td>\n",
       "    </tr>\n",
       "    <tr>\n",
       "      <th>2</th>\n",
       "      <td>6223.367465</td>\n",
       "      <td>72.301</td>\n",
       "      <td>43.08</td>\n",
       "      <td>33.333216</td>\n",
       "    </tr>\n",
       "    <tr>\n",
       "      <th>3</th>\n",
       "      <td>4797.231267</td>\n",
       "      <td>42.731</td>\n",
       "      <td>30.02</td>\n",
       "      <td>12.420476</td>\n",
       "    </tr>\n",
       "    <tr>\n",
       "      <th>4</th>\n",
       "      <td>12779.379640</td>\n",
       "      <td>75.320</td>\n",
       "      <td>62.48</td>\n",
       "      <td>40.301927</td>\n",
       "    </tr>\n",
       "    <tr>\n",
       "      <th>5</th>\n",
       "      <td>34435.367440</td>\n",
       "      <td>81.235</td>\n",
       "      <td>69.12</td>\n",
       "      <td>20.434176</td>\n",
       "    </tr>\n",
       "    <tr>\n",
       "      <th>6</th>\n",
       "      <td>36126.492700</td>\n",
       "      <td>79.829</td>\n",
       "      <td>66.80</td>\n",
       "      <td>8.199783</td>\n",
       "    </tr>\n",
       "    <tr>\n",
       "      <th>7</th>\n",
       "      <td>29796.048340</td>\n",
       "      <td>75.635</td>\n",
       "      <td>50.94</td>\n",
       "      <td>0.708573</td>\n",
       "    </tr>\n",
       "    <tr>\n",
       "      <th>8</th>\n",
       "      <td>1391.253792</td>\n",
       "      <td>64.062</td>\n",
       "      <td>37.48</td>\n",
       "      <td>150.448339</td>\n",
       "    </tr>\n",
       "    <tr>\n",
       "      <th>9</th>\n",
       "      <td>33692.605080</td>\n",
       "      <td>79.441</td>\n",
       "      <td>68.00</td>\n",
       "      <td>10.392226</td>\n",
       "    </tr>\n",
       "    <tr>\n",
       "      <th>10</th>\n",
       "      <td>1441.284873</td>\n",
       "      <td>56.728</td>\n",
       "      <td>38.22</td>\n",
       "      <td>8.078314</td>\n",
       "    </tr>\n",
       "    <tr>\n",
       "      <th>11</th>\n",
       "      <td>3822.137084</td>\n",
       "      <td>65.554</td>\n",
       "      <td>40.41</td>\n",
       "      <td>9.119152</td>\n",
       "    </tr>\n",
       "    <tr>\n",
       "      <th>12</th>\n",
       "      <td>7446.298803</td>\n",
       "      <td>74.852</td>\n",
       "      <td>53.82</td>\n",
       "      <td>4.552198</td>\n",
       "    </tr>\n",
       "    <tr>\n",
       "      <th>13</th>\n",
       "      <td>12569.851770</td>\n",
       "      <td>50.728</td>\n",
       "      <td>47.62</td>\n",
       "      <td>1.639131</td>\n",
       "    </tr>\n",
       "    <tr>\n",
       "      <th>14</th>\n",
       "      <td>9065.800825</td>\n",
       "      <td>72.390</td>\n",
       "      <td>50.92</td>\n",
       "      <td>190.010647</td>\n",
       "    </tr>\n",
       "    <tr>\n",
       "      <th>15</th>\n",
       "      <td>10680.792820</td>\n",
       "      <td>73.005</td>\n",
       "      <td>59.60</td>\n",
       "      <td>7.322858</td>\n",
       "    </tr>\n",
       "    <tr>\n",
       "      <th>16</th>\n",
       "      <td>1217.032994</td>\n",
       "      <td>52.295</td>\n",
       "      <td>31.98</td>\n",
       "      <td>14.326203</td>\n",
       "    </tr>\n",
       "    <tr>\n",
       "      <th>17</th>\n",
       "      <td>430.070692</td>\n",
       "      <td>49.580</td>\n",
       "      <td>39.03</td>\n",
       "      <td>8.390505</td>\n",
       "    </tr>\n",
       "    <tr>\n",
       "      <th>18</th>\n",
       "      <td>1713.778686</td>\n",
       "      <td>59.723</td>\n",
       "      <td>39.42</td>\n",
       "      <td>14.131858</td>\n",
       "    </tr>\n",
       "    <tr>\n",
       "      <th>19</th>\n",
       "      <td>2042.095240</td>\n",
       "      <td>50.430</td>\n",
       "      <td>38.52</td>\n",
       "      <td>17.696293</td>\n",
       "    </tr>\n",
       "    <tr>\n",
       "      <th>20</th>\n",
       "      <td>36319.235010</td>\n",
       "      <td>80.653</td>\n",
       "      <td>68.75</td>\n",
       "      <td>33.390141</td>\n",
       "    </tr>\n",
       "    <tr>\n",
       "      <th>21</th>\n",
       "      <td>706.016537</td>\n",
       "      <td>44.741</td>\n",
       "      <td>35.46</td>\n",
       "      <td>4.369038</td>\n",
       "    </tr>\n",
       "    <tr>\n",
       "      <th>22</th>\n",
       "      <td>1704.063724</td>\n",
       "      <td>50.651</td>\n",
       "      <td>38.09</td>\n",
       "      <td>10.238807</td>\n",
       "    </tr>\n",
       "    <tr>\n",
       "      <th>23</th>\n",
       "      <td>13171.638850</td>\n",
       "      <td>78.553</td>\n",
       "      <td>54.74</td>\n",
       "      <td>16.284741</td>\n",
       "    </tr>\n",
       "    <tr>\n",
       "      <th>24</th>\n",
       "      <td>4959.114854</td>\n",
       "      <td>72.961</td>\n",
       "      <td>44.00</td>\n",
       "      <td>1318.683096</td>\n",
       "    </tr>\n",
       "    <tr>\n",
       "      <th>25</th>\n",
       "      <td>7006.580419</td>\n",
       "      <td>72.889</td>\n",
       "      <td>50.64</td>\n",
       "      <td>44.227550</td>\n",
       "    </tr>\n",
       "    <tr>\n",
       "      <th>26</th>\n",
       "      <td>986.147879</td>\n",
       "      <td>65.152</td>\n",
       "      <td>40.72</td>\n",
       "      <td>0.710960</td>\n",
       "    </tr>\n",
       "    <tr>\n",
       "      <th>27</th>\n",
       "      <td>277.551859</td>\n",
       "      <td>46.462</td>\n",
       "      <td>39.14</td>\n",
       "      <td>64.606759</td>\n",
       "    </tr>\n",
       "    <tr>\n",
       "      <th>28</th>\n",
       "      <td>3632.557798</td>\n",
       "      <td>55.322</td>\n",
       "      <td>42.11</td>\n",
       "      <td>3.800610</td>\n",
       "    </tr>\n",
       "    <tr>\n",
       "      <th>29</th>\n",
       "      <td>9645.061420</td>\n",
       "      <td>78.782</td>\n",
       "      <td>57.21</td>\n",
       "      <td>4.133884</td>\n",
       "    </tr>\n",
       "    <tr>\n",
       "      <th>...</th>\n",
       "      <td>...</td>\n",
       "      <td>...</td>\n",
       "      <td>...</td>\n",
       "      <td>...</td>\n",
       "    </tr>\n",
       "    <tr>\n",
       "      <th>112</th>\n",
       "      <td>862.540756</td>\n",
       "      <td>42.568</td>\n",
       "      <td>30.33</td>\n",
       "      <td>6.144562</td>\n",
       "    </tr>\n",
       "    <tr>\n",
       "      <th>113</th>\n",
       "      <td>47143.179640</td>\n",
       "      <td>79.972</td>\n",
       "      <td>60.40</td>\n",
       "      <td>4.553009</td>\n",
       "    </tr>\n",
       "    <tr>\n",
       "      <th>114</th>\n",
       "      <td>18678.314350</td>\n",
       "      <td>74.663</td>\n",
       "      <td>64.36</td>\n",
       "      <td>5.447502</td>\n",
       "    </tr>\n",
       "    <tr>\n",
       "      <th>115</th>\n",
       "      <td>25768.257590</td>\n",
       "      <td>77.926</td>\n",
       "      <td>65.57</td>\n",
       "      <td>2.009245</td>\n",
       "    </tr>\n",
       "    <tr>\n",
       "      <th>116</th>\n",
       "      <td>926.141068</td>\n",
       "      <td>48.159</td>\n",
       "      <td>32.98</td>\n",
       "      <td>9.118773</td>\n",
       "    </tr>\n",
       "    <tr>\n",
       "      <th>117</th>\n",
       "      <td>9269.657808</td>\n",
       "      <td>49.339</td>\n",
       "      <td>45.01</td>\n",
       "      <td>43.997828</td>\n",
       "    </tr>\n",
       "    <tr>\n",
       "      <th>118</th>\n",
       "      <td>28821.063700</td>\n",
       "      <td>80.941</td>\n",
       "      <td>64.94</td>\n",
       "      <td>40.448191</td>\n",
       "    </tr>\n",
       "    <tr>\n",
       "      <th>119</th>\n",
       "      <td>3970.095407</td>\n",
       "      <td>72.396</td>\n",
       "      <td>57.59</td>\n",
       "      <td>20.378239</td>\n",
       "    </tr>\n",
       "    <tr>\n",
       "      <th>120</th>\n",
       "      <td>2602.394995</td>\n",
       "      <td>58.556</td>\n",
       "      <td>38.64</td>\n",
       "      <td>42.292929</td>\n",
       "    </tr>\n",
       "    <tr>\n",
       "      <th>121</th>\n",
       "      <td>4513.480643</td>\n",
       "      <td>39.613</td>\n",
       "      <td>41.41</td>\n",
       "      <td>1.133066</td>\n",
       "    </tr>\n",
       "    <tr>\n",
       "      <th>122</th>\n",
       "      <td>33859.748350</td>\n",
       "      <td>80.884</td>\n",
       "      <td>71.86</td>\n",
       "      <td>9.031088</td>\n",
       "    </tr>\n",
       "    <tr>\n",
       "      <th>123</th>\n",
       "      <td>37506.419070</td>\n",
       "      <td>81.701</td>\n",
       "      <td>69.62</td>\n",
       "      <td>7.554661</td>\n",
       "    </tr>\n",
       "    <tr>\n",
       "      <th>124</th>\n",
       "      <td>4184.548089</td>\n",
       "      <td>74.143</td>\n",
       "      <td>45.88</td>\n",
       "      <td>19.314747</td>\n",
       "    </tr>\n",
       "    <tr>\n",
       "      <th>125</th>\n",
       "      <td>28718.276840</td>\n",
       "      <td>78.400</td>\n",
       "      <td>58.50</td>\n",
       "      <td>23.174294</td>\n",
       "    </tr>\n",
       "    <tr>\n",
       "      <th>126</th>\n",
       "      <td>1107.482182</td>\n",
       "      <td>52.517</td>\n",
       "      <td>41.22</td>\n",
       "      <td>38.139640</td>\n",
       "    </tr>\n",
       "    <tr>\n",
       "      <th>127</th>\n",
       "      <td>7458.396327</td>\n",
       "      <td>70.616</td>\n",
       "      <td>50.85</td>\n",
       "      <td>65.068149</td>\n",
       "    </tr>\n",
       "    <tr>\n",
       "      <th>128</th>\n",
       "      <td>882.969944</td>\n",
       "      <td>58.420</td>\n",
       "      <td>38.60</td>\n",
       "      <td>5.701579</td>\n",
       "    </tr>\n",
       "    <tr>\n",
       "      <th>129</th>\n",
       "      <td>18008.509240</td>\n",
       "      <td>69.819</td>\n",
       "      <td>59.10</td>\n",
       "      <td>1.056608</td>\n",
       "    </tr>\n",
       "    <tr>\n",
       "      <th>130</th>\n",
       "      <td>7092.923025</td>\n",
       "      <td>73.923</td>\n",
       "      <td>44.60</td>\n",
       "      <td>10.276158</td>\n",
       "    </tr>\n",
       "    <tr>\n",
       "      <th>131</th>\n",
       "      <td>8458.276384</td>\n",
       "      <td>71.777</td>\n",
       "      <td>43.58</td>\n",
       "      <td>71.158647</td>\n",
       "    </tr>\n",
       "    <tr>\n",
       "      <th>132</th>\n",
       "      <td>1056.380121</td>\n",
       "      <td>51.542</td>\n",
       "      <td>39.98</td>\n",
       "      <td>29.170398</td>\n",
       "    </tr>\n",
       "    <tr>\n",
       "      <th>133</th>\n",
       "      <td>33203.261280</td>\n",
       "      <td>79.425</td>\n",
       "      <td>69.18</td>\n",
       "      <td>60.776238</td>\n",
       "    </tr>\n",
       "    <tr>\n",
       "      <th>134</th>\n",
       "      <td>42951.653090</td>\n",
       "      <td>78.242</td>\n",
       "      <td>68.44</td>\n",
       "      <td>301.139947</td>\n",
       "    </tr>\n",
       "    <tr>\n",
       "      <th>135</th>\n",
       "      <td>10611.462990</td>\n",
       "      <td>76.384</td>\n",
       "      <td>66.07</td>\n",
       "      <td>3.447496</td>\n",
       "    </tr>\n",
       "    <tr>\n",
       "      <th>136</th>\n",
       "      <td>11415.805690</td>\n",
       "      <td>73.747</td>\n",
       "      <td>55.09</td>\n",
       "      <td>26.084662</td>\n",
       "    </tr>\n",
       "    <tr>\n",
       "      <th>137</th>\n",
       "      <td>2441.576404</td>\n",
       "      <td>74.249</td>\n",
       "      <td>40.41</td>\n",
       "      <td>85.262356</td>\n",
       "    </tr>\n",
       "    <tr>\n",
       "      <th>138</th>\n",
       "      <td>3025.349798</td>\n",
       "      <td>73.422</td>\n",
       "      <td>43.16</td>\n",
       "      <td>4.018332</td>\n",
       "    </tr>\n",
       "    <tr>\n",
       "      <th>139</th>\n",
       "      <td>2280.769906</td>\n",
       "      <td>62.698</td>\n",
       "      <td>32.55</td>\n",
       "      <td>22.211743</td>\n",
       "    </tr>\n",
       "    <tr>\n",
       "      <th>140</th>\n",
       "      <td>1271.211593</td>\n",
       "      <td>42.384</td>\n",
       "      <td>42.04</td>\n",
       "      <td>11.746035</td>\n",
       "    </tr>\n",
       "    <tr>\n",
       "      <th>141</th>\n",
       "      <td>469.709298</td>\n",
       "      <td>43.487</td>\n",
       "      <td>48.45</td>\n",
       "      <td>12.311143</td>\n",
       "    </tr>\n",
       "  </tbody>\n",
       "</table>\n",
       "<p>142 rows × 4 columns</p>\n",
       "</div>"
      ],
      "text/plain": [
       "          gdp_cap  life_exp  life_exp1950          pop\n",
       "0      974.580338    43.828         28.80    31.889923\n",
       "1     5937.029526    76.423         55.23     3.600523\n",
       "2     6223.367465    72.301         43.08    33.333216\n",
       "3     4797.231267    42.731         30.02    12.420476\n",
       "4    12779.379640    75.320         62.48    40.301927\n",
       "5    34435.367440    81.235         69.12    20.434176\n",
       "6    36126.492700    79.829         66.80     8.199783\n",
       "7    29796.048340    75.635         50.94     0.708573\n",
       "8     1391.253792    64.062         37.48   150.448339\n",
       "9    33692.605080    79.441         68.00    10.392226\n",
       "10    1441.284873    56.728         38.22     8.078314\n",
       "11    3822.137084    65.554         40.41     9.119152\n",
       "12    7446.298803    74.852         53.82     4.552198\n",
       "13   12569.851770    50.728         47.62     1.639131\n",
       "14    9065.800825    72.390         50.92   190.010647\n",
       "15   10680.792820    73.005         59.60     7.322858\n",
       "16    1217.032994    52.295         31.98    14.326203\n",
       "17     430.070692    49.580         39.03     8.390505\n",
       "18    1713.778686    59.723         39.42    14.131858\n",
       "19    2042.095240    50.430         38.52    17.696293\n",
       "20   36319.235010    80.653         68.75    33.390141\n",
       "21     706.016537    44.741         35.46     4.369038\n",
       "22    1704.063724    50.651         38.09    10.238807\n",
       "23   13171.638850    78.553         54.74    16.284741\n",
       "24    4959.114854    72.961         44.00  1318.683096\n",
       "25    7006.580419    72.889         50.64    44.227550\n",
       "26     986.147879    65.152         40.72     0.710960\n",
       "27     277.551859    46.462         39.14    64.606759\n",
       "28    3632.557798    55.322         42.11     3.800610\n",
       "29    9645.061420    78.782         57.21     4.133884\n",
       "..            ...       ...           ...          ...\n",
       "112    862.540756    42.568         30.33     6.144562\n",
       "113  47143.179640    79.972         60.40     4.553009\n",
       "114  18678.314350    74.663         64.36     5.447502\n",
       "115  25768.257590    77.926         65.57     2.009245\n",
       "116    926.141068    48.159         32.98     9.118773\n",
       "117   9269.657808    49.339         45.01    43.997828\n",
       "118  28821.063700    80.941         64.94    40.448191\n",
       "119   3970.095407    72.396         57.59    20.378239\n",
       "120   2602.394995    58.556         38.64    42.292929\n",
       "121   4513.480643    39.613         41.41     1.133066\n",
       "122  33859.748350    80.884         71.86     9.031088\n",
       "123  37506.419070    81.701         69.62     7.554661\n",
       "124   4184.548089    74.143         45.88    19.314747\n",
       "125  28718.276840    78.400         58.50    23.174294\n",
       "126   1107.482182    52.517         41.22    38.139640\n",
       "127   7458.396327    70.616         50.85    65.068149\n",
       "128    882.969944    58.420         38.60     5.701579\n",
       "129  18008.509240    69.819         59.10     1.056608\n",
       "130   7092.923025    73.923         44.60    10.276158\n",
       "131   8458.276384    71.777         43.58    71.158647\n",
       "132   1056.380121    51.542         39.98    29.170398\n",
       "133  33203.261280    79.425         69.18    60.776238\n",
       "134  42951.653090    78.242         68.44   301.139947\n",
       "135  10611.462990    76.384         66.07     3.447496\n",
       "136  11415.805690    73.747         55.09    26.084662\n",
       "137   2441.576404    74.249         40.41    85.262356\n",
       "138   3025.349798    73.422         43.16     4.018332\n",
       "139   2280.769906    62.698         32.55    22.211743\n",
       "140   1271.211593    42.384         42.04    11.746035\n",
       "141    469.709298    43.487         48.45    12.311143\n",
       "\n",
       "[142 rows x 4 columns]"
      ]
     },
     "execution_count": 21,
     "metadata": {},
     "output_type": "execute_result"
    }
   ],
   "source": [
    "import pandas as pd\n",
    "lifeExp = pd.DataFrame({'gdp_cap':gdp_cap,'life_exp':life_exp,'life_exp1950': life_exp1950, 'pop':pop})\n",
    "lifeExp"
   ]
  },
  {
   "cell_type": "code",
   "execution_count": 22,
   "metadata": {},
   "outputs": [
    {
     "data": {
      "text/html": [
       "<div>\n",
       "<style>\n",
       "    .dataframe thead tr:only-child th {\n",
       "        text-align: right;\n",
       "    }\n",
       "\n",
       "    .dataframe thead th {\n",
       "        text-align: left;\n",
       "    }\n",
       "\n",
       "    .dataframe tbody tr th {\n",
       "        vertical-align: top;\n",
       "    }\n",
       "</style>\n",
       "<table border=\"1\" class=\"dataframe\">\n",
       "  <thead>\n",
       "    <tr style=\"text-align: right;\">\n",
       "      <th></th>\n",
       "      <th>gdp_cap</th>\n",
       "      <th>life_exp</th>\n",
       "      <th>life_exp1950</th>\n",
       "      <th>pop</th>\n",
       "    </tr>\n",
       "  </thead>\n",
       "  <tbody>\n",
       "    <tr>\n",
       "      <th>count</th>\n",
       "      <td>142.000000</td>\n",
       "      <td>142.000000</td>\n",
       "      <td>142.000000</td>\n",
       "      <td>142.000000</td>\n",
       "    </tr>\n",
       "    <tr>\n",
       "      <th>mean</th>\n",
       "      <td>11680.071820</td>\n",
       "      <td>67.007423</td>\n",
       "      <td>49.057535</td>\n",
       "      <td>44.021220</td>\n",
       "    </tr>\n",
       "    <tr>\n",
       "      <th>std</th>\n",
       "      <td>12859.937337</td>\n",
       "      <td>12.073021</td>\n",
       "      <td>12.225867</td>\n",
       "      <td>147.621398</td>\n",
       "    </tr>\n",
       "    <tr>\n",
       "      <th>min</th>\n",
       "      <td>277.551859</td>\n",
       "      <td>39.613000</td>\n",
       "      <td>28.800000</td>\n",
       "      <td>0.199579</td>\n",
       "    </tr>\n",
       "    <tr>\n",
       "      <th>25%</th>\n",
       "      <td>1624.842248</td>\n",
       "      <td>57.160250</td>\n",
       "      <td>39.057500</td>\n",
       "      <td>4.508034</td>\n",
       "    </tr>\n",
       "    <tr>\n",
       "      <th>50%</th>\n",
       "      <td>6124.371109</td>\n",
       "      <td>71.935500</td>\n",
       "      <td>45.135000</td>\n",
       "      <td>10.517531</td>\n",
       "    </tr>\n",
       "    <tr>\n",
       "      <th>75%</th>\n",
       "      <td>18008.835640</td>\n",
       "      <td>76.413250</td>\n",
       "      <td>59.765000</td>\n",
       "      <td>31.210042</td>\n",
       "    </tr>\n",
       "    <tr>\n",
       "      <th>max</th>\n",
       "      <td>49357.190170</td>\n",
       "      <td>82.603000</td>\n",
       "      <td>72.670000</td>\n",
       "      <td>1318.683096</td>\n",
       "    </tr>\n",
       "  </tbody>\n",
       "</table>\n",
       "</div>"
      ],
      "text/plain": [
       "            gdp_cap    life_exp  life_exp1950          pop\n",
       "count    142.000000  142.000000    142.000000   142.000000\n",
       "mean   11680.071820   67.007423     49.057535    44.021220\n",
       "std    12859.937337   12.073021     12.225867   147.621398\n",
       "min      277.551859   39.613000     28.800000     0.199579\n",
       "25%     1624.842248   57.160250     39.057500     4.508034\n",
       "50%     6124.371109   71.935500     45.135000    10.517531\n",
       "75%    18008.835640   76.413250     59.765000    31.210042\n",
       "max    49357.190170   82.603000     72.670000  1318.683096"
      ]
     },
     "execution_count": 22,
     "metadata": {},
     "output_type": "execute_result"
    }
   ],
   "source": [
    "lifeExp.describe()"
   ]
  },
  {
   "cell_type": "code",
   "execution_count": 23,
   "metadata": {},
   "outputs": [
    {
     "data": {
      "text/plain": [
       "<matplotlib.collections.PathCollection at 0xecec240>"
      ]
     },
     "execution_count": 23,
     "metadata": {},
     "output_type": "execute_result"
    },
    {
     "data": {
      "image/png": "[encoded data removed]",
      "text/plain": [
       "<matplotlib.figure.Figure at 0xe975a20>"
      ]
     },
     "metadata": {},
     "output_type": "display_data"
    }
   ],
   "source": [
    "plt.scatter(pop,life_exp)"
   ]
  },
  {
   "cell_type": "code",
   "execution_count": 24,
   "metadata": {},
   "outputs": [
    {
     "data": {
      "text/plain": [
       "(array([ 15.,  20.,  18.,  38.,  51.]),\n",
       " array([ 39.613,  48.211,  56.809,  65.407,  74.005,  82.603]),\n",
       " <a list of 5 Patch objects>)"
      ]
     },
     "execution_count": 24,
     "metadata": {},
     "output_type": "execute_result"
    },
    {
     "data": {
      "image/png": "[encoded data removed]",
      "text/plain": [
       "<matplotlib.figure.Figure at 0xeb1f898>"
      ]
     },
     "metadata": {},
     "output_type": "display_data"
    }
   ],
   "source": [
    "plt.hist(life_exp,bins=5)"
   ]
  },
  {
   "cell_type": "code",
   "execution_count": 25,
   "metadata": {},
   "outputs": [
    {
     "data": {
      "text/plain": [
       "<matplotlib.figure.Figure at 0xeb1f9e8>"
      ]
     },
     "metadata": {},
     "output_type": "display_data"
    }
   ],
   "source": [
    "plt.clf()"
   ]
  },
  {
   "cell_type": "code",
   "execution_count": 26,
   "metadata": {},
   "outputs": [
    {
     "data": {
      "text/plain": [
       "(array([  1.,   7.,   2.,   5.,   4.,   6.,   5.,   5.,   4.,   6.,   3.,\n",
       "          5.,   5.,   0.,  12.,  21.,  13.,  10.,  17.,  11.]),\n",
       " array([ 39.613 ,  41.7625,  43.912 ,  46.0615,  48.211 ,  50.3605,\n",
       "         52.51  ,  54.6595,  56.809 ,  58.9585,  61.108 ,  63.2575,\n",
       "         65.407 ,  67.5565,  69.706 ,  71.8555,  74.005 ,  76.1545,\n",
       "         78.304 ,  80.4535,  82.603 ]),\n",
       " <a list of 20 Patch objects>)"
      ]
     },
     "execution_count": 26,
     "metadata": {},
     "output_type": "execute_result"
    },
    {
     "data": {
      "image/png": "[encoded data removed]",
      "text/plain": [
       "<matplotlib.figure.Figure at 0xee23f60>"
      ]
     },
     "metadata": {},
     "output_type": "display_data"
    }
   ],
   "source": [
    "plt.hist(life_exp,bins=20)"
   ]
  },
  {
   "cell_type": "code",
   "execution_count": 28,
   "metadata": {},
   "outputs": [
    {
     "data": {
      "text/plain": [
       "(array([  3.,   6.,   6.,   7.,   6.,   7.,   7.,   4.,   7.,   5.,   6.,\n",
       "         27.,  18.,  17.,  16.]),\n",
       " array([ 39.613,  42.479,  45.345,  48.211,  51.077,  53.943,  56.809,\n",
       "         59.675,  62.541,  65.407,  68.273,  71.139,  74.005,  76.871,\n",
       "         79.737,  82.603]),\n",
       " <a list of 15 Patch objects>)"
      ]
     },
     "execution_count": 28,
     "metadata": {},
     "output_type": "execute_result"
    },
    {
     "data": {
      "image/png": "[encoded data removed]",
      "text/plain": [
       "<matplotlib.figure.Figure at 0xea49ac8>"
      ]
     },
     "metadata": {},
     "output_type": "display_data"
    }
   ],
   "source": [
    "plt.hist(life_exp,bins=15)"
   ]
  },
  {
   "cell_type": "code",
   "execution_count": 29,
   "metadata": {},
   "outputs": [
    {
     "data": {
      "text/plain": [
       "(array([  5.,   8.,  14.,  17.,  20.,  11.,   7.,   7.,   4.,   7.,   9.,\n",
       "          6.,  11.,  11.,   5.]),\n",
       " array([ 28.8       ,  31.72466667,  34.64933333,  37.574     ,\n",
       "         40.49866667,  43.42333333,  46.348     ,  49.27266667,\n",
       "         52.19733333,  55.122     ,  58.04666667,  60.97133333,\n",
       "         63.896     ,  66.82066667,  69.74533333,  72.67      ]),\n",
       " <a list of 15 Patch objects>)"
      ]
     },
     "execution_count": 29,
     "metadata": {},
     "output_type": "execute_result"
    },
    {
     "data": {
      "image/png": "[encoded data removed]",
      "text/plain": [
       "<matplotlib.figure.Figure at 0xec554a8>"
      ]
     },
     "metadata": {},
     "output_type": "display_data"
    }
   ],
   "source": [
    "plt.hist(life_exp1950,bins=15)"
   ]
  },
  {
   "cell_type": "code",
   "execution_count": 30,
   "metadata": {},
   "outputs": [
    {
     "data": {
      "text/plain": [
       "<matplotlib.collections.PathCollection at 0xf20a898>"
      ]
     },
     "execution_count": 30,
     "metadata": {},
     "output_type": "execute_result"
    },
    {
     "data": {
      "image/png": "[encoded data removed]",
      "text/plain": [
       "<matplotlib.figure.Figure at 0xeffe7f0>"
      ]
     },
     "metadata": {},
     "output_type": "display_data"
    }
   ],
   "source": [
    "plt.scatter(gdp_cap, life_exp)"
   ]
  },
  {
   "cell_type": "code",
   "execution_count": 31,
   "metadata": {},
   "outputs": [
    {
     "data": {
      "image/png": "[encoded data removed]",
      "text/plain": [
       "<matplotlib.figure.Figure at 0xf22ea58>"
      ]
     },
     "metadata": {},
     "output_type": "display_data"
    }
   ],
   "source": [
    "plt.scatter(gdp_cap, life_exp)\n",
    "plt.xscale('log')"
   ]
  },
  {
   "cell_type": "code",
   "execution_count": 35,
   "metadata": {},
   "outputs": [
    {
     "data": {
      "image/png": "[encoded data removed]",
      "text/plain": [
       "<matplotlib.figure.Figure at 0xf4c2198>"
      ]
     },
     "metadata": {},
     "output_type": "display_data"
    }
   ],
   "source": [
    "plt.scatter(gdp_cap, life_exp)\n",
    "plt.xscale('log')\n",
    "# Strings\n",
    "xlab = 'GDP per Capita [in USD]'\n",
    "ylab = 'Life Expectancy [in years]'\n",
    "title = 'World Development in 2007'\n",
    "# Add axis labels\n",
    "plt.xlabel(xlab)\n",
    "plt.ylabel(ylab)\n",
    "# Add title\n",
    "plt.title(title)\n",
    "# Definition of tick_val and tick_lab\n",
    "tick_val = [1000,10000,100000]\n",
    "tick_lab = ['1k','10k','100k']"
   ]
  },
  {
   "cell_type": "code",
   "execution_count": 28,
   "metadata": {},
   "outputs": [
    {
     "data": {
      "text/plain": [
       "([<matplotlib.axis.XTick at 0xd1f39e8>,\n",
       "  <matplotlib.axis.XTick at 0xcd7f2b0>,\n",
       "  <matplotlib.axis.XTick at 0xd2ce2e8>],\n",
       " <a list of 3 Text xticklabel objects>)"
      ]
     },
     "execution_count": 28,
     "metadata": {},
     "output_type": "execute_result"
    },
    {
     "data": {
      "image/png": "[encoded data removed]",
      "text/plain": [
       "<matplotlib.figure.Figure at 0xd11aef0>"
      ]
     },
     "metadata": {},
     "output_type": "display_data"
    }
   ],
   "source": [
    "plt.scatter(gdp_cap, life_exp)\n",
    "plt.xscale('log')\n",
    "# Strings\n",
    "xlab = 'GDP per Capita [in USD]'\n",
    "ylab = 'Life Expectancy [in years]'\n",
    "title = 'World Development in 2007'\n",
    "# Add axis labels\n",
    "plt.xlabel(xlab)\n",
    "plt.ylabel(ylab)\n",
    "# Add title\n",
    "plt.title(title)\n",
    "# Definition of tick_val and tick_lab\n",
    "tick_val = [1000,10000,100000]\n",
    "tick_lab = ['1k','10k','100k']\n",
    "# Adapt the ticks on the x-axis\n",
    "plt.xticks(tick_val, tick_lab)"
   ]
  },
  {
   "cell_type": "code",
   "execution_count": 29,
   "metadata": {
    "collapsed": true
   },
   "outputs": [],
   "source": [
    "import numpy as np"
   ]
  },
  {
   "cell_type": "code",
   "execution_count": 30,
   "metadata": {
    "collapsed": true
   },
   "outputs": [],
   "source": [
    "np_pop = np.array(pop)"
   ]
  },
  {
   "cell_type": "code",
   "execution_count": 31,
   "metadata": {
    "collapsed": true
   },
   "outputs": [],
   "source": [
    "np_pop = np_pop *2"
   ]
  },
  {
   "cell_type": "code",
   "execution_count": 32,
   "metadata": {},
   "outputs": [
    {
     "data": {
      "text/plain": [
       "<matplotlib.collections.PathCollection at 0xd67afd0>"
      ]
     },
     "execution_count": 32,
     "metadata": {},
     "output_type": "execute_result"
    },
    {
     "data": {
      "image/png": "[encoded data removed]",
      "text/plain": [
       "<matplotlib.figure.Figure at 0xd544f28>"
      ]
     },
     "metadata": {},
     "output_type": "display_data"
    }
   ],
   "source": [
    "plt.xscale('log')\n",
    "# Strings\n",
    "xlab = 'GDP per Capita [in USD]'\n",
    "ylab = 'Life Expectancy [in years]'\n",
    "title = 'World Development in 2007'\n",
    "# Add axis labels\n",
    "plt.xlabel(xlab)\n",
    "plt.ylabel(ylab)\n",
    "# Add title\n",
    "plt.title(title)\n",
    "# Definition of tick_val and tick_lab\n",
    "tick_val = [1000,10000,100000]\n",
    "tick_lab = ['1k','10k','100k']\n",
    "# Adapt the ticks on the x-axis\n",
    "plt.xticks(tick_val, tick_lab)\n",
    "# Update: set s argument to np_pop\n",
    "plt.scatter(gdp_cap, life_exp, s = np_pop)"
   ]
  },
  {
   "cell_type": "code",
   "execution_count": 33,
   "metadata": {},
   "outputs": [
    {
     "data": {
      "text/plain": [
       "list"
      ]
     },
     "execution_count": 33,
     "metadata": {},
     "output_type": "execute_result"
    }
   ],
   "source": [
    "type(gdp_cap)"
   ]
  },
  {
   "cell_type": "code",
   "execution_count": 35,
   "metadata": {},
   "outputs": [
    {
     "data": {
      "text/plain": [
       "<matplotlib.collections.PathCollection at 0xd0ff6a0>"
      ]
     },
     "execution_count": 35,
     "metadata": {},
     "output_type": "execute_result"
    },
    {
     "data": {
      "image/png": "[encoded data removed]",
      "text/plain": [
       "<matplotlib.figure.Figure at 0xcc95908>"
      ]
     },
     "metadata": {},
     "output_type": "display_data"
    }
   ],
   "source": [
    "# Specify c and alpha inside plt.scatter()\n",
    "plt.scatter(x = gdp_cap, y = life_exp, s = np.array(pop) * 2, alpha = 0.8)"
   ]
  },
  {
   "cell_type": "code",
   "execution_count": null,
   "metadata": {
    "collapsed": true
   },
   "outputs": [],
   "source": []
  }
 ],
 "metadata": {
  "kernelspec": {
   "display_name": "Python 2",
   "language": "python",
   "name": "python2"
  },
  "language_info": {
   "codemirror_mode": {
    "name": "ipython",
    "version": 2
   },
   "file_extension": ".py",
   "mimetype": "text/x-python",
   "name": "python",
   "nbconvert_exporter": "python",
   "pygments_lexer": "ipython2",
   "version": "2.7.14"
  }
 },
 "nbformat": 4,
 "nbformat_minor": 1
}
